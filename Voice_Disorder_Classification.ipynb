{
  "nbformat": 4,
  "nbformat_minor": 0,
  "metadata": {
    "colab": {
      "provenance": [],
      "machine_shape": "hm",
      "gpuType": "A100"
    },
    "kernelspec": {
      "name": "python3",
      "display_name": "Python 3"
    },
    "language_info": {
      "name": "python"
    },
    "accelerator": "GPU"
  },
  "cells": [
    {
      "cell_type": "markdown",
      "source": [
        "##Imports"
      ],
      "metadata": {
        "id": "AHNtt6tKQoFK"
      }
    },
    {
      "cell_type": "code",
      "source": [
        "import tensorflow as tf\n",
        "from scipy.io.wavfile import read,write\n",
        "import numpy as np\n",
        "import matplotlib.pyplot as plt\n",
        "import os\n",
        "import shutil\n",
        "from IPython.display import Audio, display\n",
        "import tensorflow as tf\n",
        "import librosa\n",
        "import re\n",
        "import datetime\n",
        "import json\n",
        "import requests\n",
        "import pandas as pd\n",
        "import time\n",
        "from tensorflow.keras.models import save_model"
      ],
      "metadata": {
        "id": "o_Z1672ScUde"
      },
      "execution_count": 1,
      "outputs": []
    },
    {
      "cell_type": "code",
      "source": [
        "from google.colab import drive\n",
        "drive.mount('/content/drive')"
      ],
      "metadata": {
        "id": "dl0iraNPRr8W",
        "colab": {
          "base_uri": "https://localhost:8080/"
        },
        "outputId": "01404553-a14a-4e87-9abc-3a077eb2a03a"
      },
      "execution_count": 2,
      "outputs": [
        {
          "output_type": "stream",
          "name": "stdout",
          "text": [
            "Mounted at /content/drive\n"
          ]
        }
      ]
    },
    {
      "cell_type": "markdown",
      "source": [
        "##UA Speech Dataset"
      ],
      "metadata": {
        "id": "8-OI-1uJQtiX"
      }
    },
    {
      "cell_type": "markdown",
      "source": [
        "Loading in Dataset"
      ],
      "metadata": {
        "id": "ye4OoPjKQva8"
      }
    },
    {
      "cell_type": "code",
      "source": [
        "!tar xvzf /content/drive/MyDrive/UASpeech_original_C.tgz"
      ],
      "metadata": {
        "id": "pSVGiq9jQ2C5"
      },
      "execution_count": null,
      "outputs": []
    },
    {
      "cell_type": "code",
      "source": [
        "!tar xvzf /content/drive/MyDrive/UASpeech_original_FM.tgz"
      ],
      "metadata": {
        "id": "9Of2PUV_Qzyn"
      },
      "execution_count": null,
      "outputs": []
    },
    {
      "cell_type": "code",
      "source": [
        "def preprocess_folder(folder_path,positive,sampling_rate):\n",
        "  files_list = os.listdir(folder_path)\n",
        "  list_of_wavs, list_of_labels = [], []\n",
        "  for f in files_list:\n",
        "    if f.endswith(\".wav\") and f[0] != \".\":\n",
        "      file_path = os.path.join(folder_path,f)\n",
        "      wav = librosa.load(file_path,sr=sampling_rate)\n",
        "      if sampling_rate*8 >= len(wav[0]) >= sampling_rate*2:\n",
        "        padded_wav = np.pad(wav[0],(0,sampling_rate*8-len(wav[0])),mode='constant')\n",
        "        list_of_wavs.append(padded_wav)\n",
        "        # for itm in librosa.feature.mfcc(y=padded_wav, sr=sampling_rate): list_of_wavs.append(itm)\n",
        "        if positive:\n",
        "          list_of_labels.append(1)\n",
        "        else:\n",
        "          list_of_labels.append(0)\n",
        "  return list_of_wavs, list_of_labels"
      ],
      "metadata": {
        "id": "CZKMAlFzQ-1I"
      },
      "execution_count": null,
      "outputs": []
    },
    {
      "cell_type": "code",
      "source": [
        "total_list_of_wavs, total_list_of_labels = [], []\n",
        "for i in os.listdir(\"/content/drive/MyDrive/UASpeech/audio/original\"):\n",
        "  print(i)\n",
        "  if i.startswith(\"C\"):\n",
        "    list_of_wavs, list_of_labels = preprocess_folder(f\"/content/drive/MyDrive/UASpeech/audio/original/{i}\",False,16000)\n",
        "  else:\n",
        "    list_of_wavs, list_of_labels = preprocess_folder(f\"/content/drive/MyDrive/UASpeech/audio/original/{i}\",True,16000)\n",
        "  for itm in list_of_wavs: total_list_of_wavs.append(itm)\n",
        "  for itm in list_of_labels: total_list_of_labels.append(itm)"
      ],
      "metadata": {
        "id": "D3JfiDmTRG6C"
      },
      "execution_count": null,
      "outputs": []
    },
    {
      "cell_type": "code",
      "source": [
        "uaspeech_dataset = tf.data.Dataset.from_tensor_slices((total_list_of_wavs, total_list_of_labels))"
      ],
      "metadata": {
        "id": "vSZDGMI5RIOr"
      },
      "execution_count": null,
      "outputs": []
    },
    {
      "cell_type": "code",
      "source": [
        "uaspeech_dataset_sample = uaspeech_dataset.shuffle(buffer_size=14000)\n",
        "uaspeech_dataset_sample = uaspeech_dataset.take(14000)"
      ],
      "metadata": {
        "id": "pjnc67CbRK4_"
      },
      "execution_count": null,
      "outputs": []
    },
    {
      "cell_type": "markdown",
      "source": [
        "Loading from Drive"
      ],
      "metadata": {
        "id": "xOzm8aSeRQVs"
      }
    },
    {
      "cell_type": "code",
      "source": [
        "uaspeech_dataset = tf.data.Dataset.load(\"/content/drive/MyDrive/UASpeech_TF_Dataset_2\")"
      ],
      "metadata": {
        "id": "HohhBTObRRz-"
      },
      "execution_count": 2,
      "outputs": []
    },
    {
      "cell_type": "code",
      "source": [
        "uaspeech_dataset_sample = uaspeech_dataset.shuffle(buffer_size=14000)\n",
        "uaspeech_dataset_sample = uaspeech_dataset.take(14000)"
      ],
      "metadata": {
        "id": "vDN4HVtv1xjr"
      },
      "execution_count": 3,
      "outputs": []
    },
    {
      "cell_type": "markdown",
      "source": [
        "## TORGO Dataset"
      ],
      "metadata": {
        "id": "BiXcCC5nRf8I"
      }
    },
    {
      "cell_type": "markdown",
      "source": [
        "Loading in Dataset"
      ],
      "metadata": {
        "id": "ezxO4qfiRiA8"
      }
    },
    {
      "cell_type": "code",
      "source": [
        "!curl -O https://www.cs.toronto.edu/~complingweb/data/TORGO/F.tar.bz2"
      ],
      "metadata": {
        "id": "3c0oL2ItRqZZ"
      },
      "execution_count": null,
      "outputs": []
    },
    {
      "cell_type": "code",
      "source": [
        "!tar xvjf /content/F.tar.bz2"
      ],
      "metadata": {
        "id": "xql08bWORvqH"
      },
      "execution_count": null,
      "outputs": []
    },
    {
      "cell_type": "code",
      "source": [
        "!mkdir female-dysarthria\n",
        "!mkdir female-normal\n",
        "!mkdir male-dysarthria\n",
        "!mkdir male-normal"
      ],
      "metadata": {
        "id": "V7fh05f3Rwin"
      },
      "execution_count": null,
      "outputs": []
    },
    {
      "cell_type": "code",
      "source": [
        "shutil.move('/content/F01','/content/female-dysarthria')\n",
        "shutil.move('/content/F04','/content/female-dysarthria')\n",
        "shutil.move('/content/F03','/content/female-dysarthria')"
      ],
      "metadata": {
        "id": "bed1h0SlRx9w"
      },
      "execution_count": null,
      "outputs": []
    },
    {
      "cell_type": "code",
      "source": [
        "!curl -O https://www.cs.toronto.edu/~complingweb/data/TORGO/FC.tar.bz2"
      ],
      "metadata": {
        "id": "1a-eyQilRzGr"
      },
      "execution_count": null,
      "outputs": []
    },
    {
      "cell_type": "code",
      "source": [
        "!tar xvjf /content/FC.tar.bz2"
      ],
      "metadata": {
        "id": "eog_63TzR0zh"
      },
      "execution_count": null,
      "outputs": []
    },
    {
      "cell_type": "code",
      "source": [
        "!curl -O https://www.cs.toronto.edu/~complingweb/data/TORGO/M.tar.bz2"
      ],
      "metadata": {
        "id": "t9aEiuUgR2U7"
      },
      "execution_count": null,
      "outputs": []
    },
    {
      "cell_type": "code",
      "source": [
        "!curl -O https://www.cs.toronto.edu/~complingweb/data/TORGO/MC.tar.bz2"
      ],
      "metadata": {
        "id": "T5ZMZM-vR3F4"
      },
      "execution_count": null,
      "outputs": []
    },
    {
      "cell_type": "code",
      "source": [
        "shutil.move('/content/FC01','/content/female-normal')\n",
        "shutil.move('/content/FC02','/content/female-normal')\n",
        "shutil.move('/content/FC03','/content/female-normal')"
      ],
      "metadata": {
        "id": "ztz0Rcu4R5HT"
      },
      "execution_count": null,
      "outputs": []
    },
    {
      "cell_type": "code",
      "source": [
        "!tar xvjf /content/M.tar.bz2"
      ],
      "metadata": {
        "id": "q8aJGdp6R70N"
      },
      "execution_count": null,
      "outputs": []
    },
    {
      "cell_type": "code",
      "source": [
        "!tar xvjf /content/MC.tar.bz2"
      ],
      "metadata": {
        "id": "ilU29dE2R9Dp"
      },
      "execution_count": null,
      "outputs": []
    },
    {
      "cell_type": "code",
      "source": [
        "shutil.move('/content/M01','/content/male-dysarthria')\n",
        "shutil.move('/content/M02','/content/male-dysarthria')\n",
        "shutil.move('/content/M03','/content/male-dysarthria')\n",
        "shutil.move('/content/M04','/content/male-dysarthria')\n",
        "shutil.move('/content/M05','/content/male-dysarthria')"
      ],
      "metadata": {
        "id": "Qe746WgLR-G1"
      },
      "execution_count": null,
      "outputs": []
    },
    {
      "cell_type": "code",
      "source": [
        "shutil.move('/content/MC01','/content/male-normal')\n",
        "shutil.move('/content/MC02','/content/male-normal')\n",
        "shutil.move('/content/MC03','/content/male-normal')\n",
        "shutil.move('/content/MC04','/content/male-normal')"
      ],
      "metadata": {
        "id": "td5fqTwYR-ua"
      },
      "execution_count": null,
      "outputs": []
    },
    {
      "cell_type": "code",
      "source": [
        "def preprocess_folder(folder_path,positive,sampling_rate):\n",
        "  files_list = os.listdir(folder_path)\n",
        "  list_of_wavs, list_of_labels = [], []\n",
        "  for f in files_list:\n",
        "    if f.endswith(\".wav\") and f[0] != \".\":\n",
        "      file_path = os.path.join(folder_path,f)\n",
        "      wav = librosa.load(file_path,sr=sampling_rate)\n",
        "      if sampling_rate*8 >= len(wav[0]) >= sampling_rate*2:\n",
        "        padded_wav = np.pad(wav[0],(0,sampling_rate*8-len(wav[0])),mode='constant')\n",
        "        list_of_wavs.append(padded_wav)\n",
        "        if positive:\n",
        "          list_of_labels.append(1)\n",
        "        else:\n",
        "          list_of_labels.append(0)\n",
        "  return list_of_wavs, list_of_labels"
      ],
      "metadata": {
        "id": "uFi932aUSJXq"
      },
      "execution_count": null,
      "outputs": []
    },
    {
      "cell_type": "code",
      "source": [
        "total_list_of_wavs, total_list_of_labels = [], []"
      ],
      "metadata": {
        "id": "MifaN5oGSLFj"
      },
      "execution_count": null,
      "outputs": []
    },
    {
      "cell_type": "code",
      "source": [
        "list_of_wavs, list_of_labels = preprocess_folder(f\"/content/female-dysarthria/F01/Session1/wav_arrayMic\",True,16000)\n",
        "for itm in list_of_wavs: total_list_of_wavs.append(itm)\n",
        "for itm in list_of_labels: total_list_of_labels.append(itm)"
      ],
      "metadata": {
        "id": "KpQP1aGMSMOM"
      },
      "execution_count": null,
      "outputs": []
    },
    {
      "cell_type": "code",
      "source": [
        "list_of_wavs, list_of_labels = preprocess_folder(f\"/content/female-dysarthria/F03/Session1/wav_arrayMic\",True,16000)\n",
        "for itm in list_of_wavs: total_list_of_wavs.append(itm)\n",
        "for itm in list_of_labels: total_list_of_labels.append(itm)\n",
        "\n",
        "list_of_wavs, list_of_labels = preprocess_folder(f\"/content/female-dysarthria/F03/Session2/wav_arrayMic\",True,16000)\n",
        "for itm in list_of_wavs: total_list_of_wavs.append(itm)\n",
        "for itm in list_of_labels: total_list_of_labels.append(itm)\n",
        "\n",
        "list_of_wavs, list_of_labels = preprocess_folder(f\"/content/female-dysarthria/F03/Session3/wav_arrayMic\",True,16000)\n",
        "for itm in list_of_wavs: total_list_of_wavs.append(itm)\n",
        "for itm in list_of_labels: total_list_of_labels.append(itm)"
      ],
      "metadata": {
        "id": "yLupZjPKSM21"
      },
      "execution_count": null,
      "outputs": []
    },
    {
      "cell_type": "code",
      "source": [
        "list_of_wavs, list_of_labels = preprocess_folder(f\"/content/female-dysarthria/F04/Session1/wav_arrayMic\",True,16000)\n",
        "for itm in list_of_wavs: total_list_of_wavs.append(itm)\n",
        "for itm in list_of_labels: total_list_of_labels.append(itm)\n",
        "\n",
        "list_of_wavs, list_of_labels = preprocess_folder(f\"/content/female-dysarthria/F04/Session2/wav_arrayMic\",True,16000)\n",
        "for itm in list_of_wavs: total_list_of_wavs.append(itm)\n",
        "for itm in list_of_labels: total_list_of_labels.append(itm)"
      ],
      "metadata": {
        "id": "-YdeeHXwSNsv"
      },
      "execution_count": null,
      "outputs": []
    },
    {
      "cell_type": "code",
      "source": [
        "list_of_wavs, list_of_labels = preprocess_folder(f\"/content/female-normal/FC01/Session1/wav_arrayMic\",False,16000)\n",
        "for itm in list_of_wavs: total_list_of_wavs.append(itm)\n",
        "for itm in list_of_labels: total_list_of_labels.append(itm)"
      ],
      "metadata": {
        "id": "pdItnrBlSPDt"
      },
      "execution_count": null,
      "outputs": []
    },
    {
      "cell_type": "code",
      "source": [
        "list_of_wavs, list_of_labels = preprocess_folder(f\"/content/female-normal/FC02/Session2/wav_arrayMic\",False,16000)\n",
        "for itm in list_of_wavs: total_list_of_wavs.append(itm)\n",
        "for itm in list_of_labels: total_list_of_labels.append(itm)\n",
        "\n",
        "list_of_wavs, list_of_labels = preprocess_folder(f\"/content/female-normal/FC02/Session3/wav_arrayMic\",False,16000)\n",
        "for itm in list_of_wavs: total_list_of_wavs.append(itm)\n",
        "for itm in list_of_labels: total_list_of_labels.append(itm)"
      ],
      "metadata": {
        "id": "46eBOADGSPy2"
      },
      "execution_count": null,
      "outputs": []
    },
    {
      "cell_type": "code",
      "source": [
        "list_of_wavs, list_of_labels = preprocess_folder(f\"/content/female-normal/FC03/Session1/wav_arrayMic\",False,16000)\n",
        "for itm in list_of_wavs: total_list_of_wavs.append(itm)\n",
        "for itm in list_of_labels: total_list_of_labels.append(itm)\n",
        "\n",
        "list_of_wavs, list_of_labels = preprocess_folder(f\"/content/female-normal/FC03/Session2/wav_arrayMic\",False,16000)\n",
        "for itm in list_of_wavs: total_list_of_wavs.append(itm)\n",
        "for itm in list_of_labels: total_list_of_labels.append(itm)\n",
        "\n",
        "list_of_wavs, list_of_labels = preprocess_folder(f\"/content/female-normal/FC03/Session3/wav_arrayMic\",False,16000)\n",
        "for itm in list_of_wavs: total_list_of_wavs.append(itm)\n",
        "for itm in list_of_labels: total_list_of_labels.append(itm)"
      ],
      "metadata": {
        "id": "8hGPHh4ASQcx"
      },
      "execution_count": null,
      "outputs": []
    },
    {
      "cell_type": "code",
      "source": [
        "list_of_wavs, list_of_labels = preprocess_folder(f\"/content/male-dysarthria/M01/Session1/wav_arrayMic\",True,16000)\n",
        "for itm in list_of_wavs: total_list_of_wavs.append(itm)\n",
        "for itm in list_of_labels: total_list_of_labels.append(itm)\n",
        "\n",
        "list_of_wavs, list_of_labels = preprocess_folder(f\"/content/male-dysarthria/M01/Session2_3/wav_arrayMic\",True,16000)\n",
        "for itm in list_of_wavs: total_list_of_wavs.append(itm)\n",
        "for itm in list_of_labels: total_list_of_labels.append(itm)"
      ],
      "metadata": {
        "id": "74QbFNWiSRN-"
      },
      "execution_count": null,
      "outputs": []
    },
    {
      "cell_type": "code",
      "source": [
        "list_of_wavs, list_of_labels = preprocess_folder(f\"/content/male-dysarthria/M02/Session1/wav_arrayMic\",True,16000)\n",
        "for itm in list_of_wavs: total_list_of_wavs.append(itm)\n",
        "for itm in list_of_labels: total_list_of_labels.append(itm)\n",
        "\n",
        "list_of_wavs, list_of_labels = preprocess_folder(f\"/content/male-dysarthria/M02/Session2/wav_arrayMic\",True,16000)\n",
        "for itm in list_of_wavs: total_list_of_wavs.append(itm)\n",
        "for itm in list_of_labels: total_list_of_labels.append(itm)"
      ],
      "metadata": {
        "id": "ByeckbpFSR7C"
      },
      "execution_count": null,
      "outputs": []
    },
    {
      "cell_type": "code",
      "source": [
        "list_of_wavs, list_of_labels = preprocess_folder(f\"/content/male-dysarthria/M03/Session2/wav_arrayMic\",True,16000)\n",
        "for itm in list_of_wavs: total_list_of_wavs.append(itm)\n",
        "for itm in list_of_labels: total_list_of_labels.append(itm)"
      ],
      "metadata": {
        "id": "_8KFyqNnSStk"
      },
      "execution_count": null,
      "outputs": []
    },
    {
      "cell_type": "code",
      "source": [
        "list_of_wavs, list_of_labels = preprocess_folder(f\"/content/male-dysarthria/M04/Session1/wav_arrayMic\",True,16000)\n",
        "for itm in list_of_wavs: total_list_of_wavs.append(itm)\n",
        "for itm in list_of_labels: total_list_of_labels.append(itm)\n",
        "\n",
        "list_of_wavs, list_of_labels = preprocess_folder(f\"/content/male-dysarthria/M04/Session2/wav_arrayMic\",True,16000)\n",
        "for itm in list_of_wavs: total_list_of_wavs.append(itm)\n",
        "for itm in list_of_labels: total_list_of_labels.append(itm)"
      ],
      "metadata": {
        "id": "EBxdNrBRSTYR"
      },
      "execution_count": null,
      "outputs": []
    },
    {
      "cell_type": "code",
      "source": [
        "list_of_wavs, list_of_labels = preprocess_folder(f\"/content/male-dysarthria/M05/Session1/wav_arrayMic\",True,16000)\n",
        "for itm in list_of_wavs: total_list_of_wavs.append(itm)\n",
        "for itm in list_of_labels: total_list_of_labels.append(itm)\n",
        "\n",
        "list_of_wavs, list_of_labels = preprocess_folder(f\"/content/male-dysarthria/M05/Session2/wav_headMic\",True,16000)\n",
        "for itm in list_of_wavs: total_list_of_wavs.append(itm)\n",
        "for itm in list_of_labels: total_list_of_labels.append(itm)"
      ],
      "metadata": {
        "id": "AIo7SVpYSUId"
      },
      "execution_count": null,
      "outputs": []
    },
    {
      "cell_type": "code",
      "source": [
        "list_of_wavs, list_of_labels = preprocess_folder(f\"/content/male-normal/MC01/Session1/wav_arrayMic\",False,16000)\n",
        "for itm in list_of_wavs: total_list_of_wavs.append(itm)\n",
        "for itm in list_of_labels: total_list_of_labels.append(itm)\n",
        "\n",
        "list_of_wavs, list_of_labels = preprocess_folder(f\"/content/male-normal/MC01/Session2/wav_arrayMic\",False,16000)\n",
        "for itm in list_of_wavs: total_list_of_wavs.append(itm)\n",
        "for itm in list_of_labels: total_list_of_labels.append(itm)\n",
        "\n",
        "list_of_wavs, list_of_labels = preprocess_folder(f\"/content/male-normal/MC01/Session3/wav_arrayMic\",False,16000)\n",
        "for itm in list_of_wavs: total_list_of_wavs.append(itm)\n",
        "for itm in list_of_labels: total_list_of_labels.append(itm)"
      ],
      "metadata": {
        "id": "6KfnMq4XSU32"
      },
      "execution_count": null,
      "outputs": []
    },
    {
      "cell_type": "code",
      "source": [
        "list_of_wavs, list_of_labels = preprocess_folder(f\"/content/male-normal/MC02/Session1/wav_arrayMic\",False,16000)\n",
        "for itm in list_of_wavs: total_list_of_wavs.append(itm)\n",
        "for itm in list_of_labels: total_list_of_labels.append(itm)\n",
        "\n",
        "list_of_wavs, list_of_labels = preprocess_folder(f\"/content/male-normal/MC02/Session2/wav_arrayMic\",False,16000)\n",
        "for itm in list_of_wavs: total_list_of_wavs.append(itm)\n",
        "for itm in list_of_labels: total_list_of_labels.append(itm)"
      ],
      "metadata": {
        "id": "LRisa650SWaS"
      },
      "execution_count": null,
      "outputs": []
    },
    {
      "cell_type": "code",
      "source": [
        "list_of_wavs, list_of_labels = preprocess_folder(f\"/content/male-normal/MC03/Session1/wav_arrayMic\",False,16000)\n",
        "for itm in list_of_wavs: total_list_of_wavs.append(itm)\n",
        "for itm in list_of_labels: total_list_of_labels.append(itm)\n",
        "\n",
        "list_of_wavs, list_of_labels = preprocess_folder(f\"/content/male-normal/MC03/Session2/wav_arrayMic\",False,16000)\n",
        "for itm in list_of_wavs: total_list_of_wavs.append(itm)\n",
        "for itm in list_of_labels: total_list_of_labels.append(itm)"
      ],
      "metadata": {
        "id": "x82LIon4SXLg"
      },
      "execution_count": null,
      "outputs": []
    },
    {
      "cell_type": "code",
      "source": [
        "list_of_wavs, list_of_labels = preprocess_folder(f\"/content/male-normal/MC04/Session1/wav_arrayMic\",False,16000)\n",
        "for itm in list_of_wavs: total_list_of_wavs.append(itm)\n",
        "for itm in list_of_labels: total_list_of_labels.append(itm)\n",
        "\n",
        "list_of_wavs, list_of_labels = preprocess_folder(f\"/content/male-normal/MC04/Session2/wav_arrayMic\",False,16000)\n",
        "for itm in list_of_wavs: total_list_of_wavs.append(itm)\n",
        "for itm in list_of_labels: total_list_of_labels.append(itm)"
      ],
      "metadata": {
        "id": "dBQ75YF9SX5V"
      },
      "execution_count": null,
      "outputs": []
    },
    {
      "cell_type": "code",
      "source": [
        "torgo_dataset = tf.data.Dataset.from_tensor_slices((total_list_of_wavs, total_list_of_labels))"
      ],
      "metadata": {
        "id": "qL3oX6izSZYH"
      },
      "execution_count": null,
      "outputs": []
    },
    {
      "cell_type": "markdown",
      "source": [
        "Loading from Drive"
      ],
      "metadata": {
        "id": "ZyJySxeNSfyR"
      }
    },
    {
      "cell_type": "code",
      "source": [
        "torgo_dataset = tf.data.Dataset.load(\"/content/drive/MyDrive/TORGO_TF_Dataset\")"
      ],
      "metadata": {
        "id": "gVJMxbmGShCf"
      },
      "execution_count": 4,
      "outputs": []
    },
    {
      "cell_type": "markdown",
      "source": [
        "## Saarbruecken Dataset"
      ],
      "metadata": {
        "id": "cYgqWlVHSjcZ"
      }
    },
    {
      "cell_type": "code",
      "source": [
        "def preprocess_folder(folder_path,positive,sampling_rate):\n",
        "  files_list = os.listdir(folder_path)\n",
        "  list_of_wavs, list_of_labels = [], []\n",
        "  for f in files_list:\n",
        "    if f.endswith(\".wav\") and f[0] != \".\":\n",
        "      file_path = os.path.join(folder_path,f)\n",
        "      wav = librosa.load(file_path,sr=sampling_rate)\n",
        "      if sampling_rate*8 >= len(wav[0]) >= sampling_rate*2:\n",
        "        padded_wav = np.pad(wav[0],(0,sampling_rate*8-len(wav[0])),mode='constant')\n",
        "        list_of_wavs.append(padded_wav)\n",
        "        if positive:\n",
        "          list_of_labels.append(1)\n",
        "        else:\n",
        "          list_of_labels.append(0)\n",
        "  return list_of_wavs, list_of_labels"
      ],
      "metadata": {
        "id": "3Yqf8b26SlfH"
      },
      "execution_count": null,
      "outputs": []
    },
    {
      "cell_type": "code",
      "source": [
        "total_list_of_wavs, total_list_of_labels = [], []"
      ],
      "metadata": {
        "id": "NxIfEq6YSuOO"
      },
      "execution_count": null,
      "outputs": []
    },
    {
      "cell_type": "code",
      "source": [
        "list_of_wavs, list_of_labels = preprocess_folder(f\"/content/drive/MyDrive/SaarbrueckenDataset/healthy\",False,16000)\n",
        "for itm in list_of_wavs: total_list_of_wavs.append(itm)\n",
        "for itm in list_of_labels: total_list_of_labels.append(itm)"
      ],
      "metadata": {
        "id": "4JAxZq8sSu1i"
      },
      "execution_count": null,
      "outputs": []
    },
    {
      "cell_type": "code",
      "source": [
        "list_of_wavs, list_of_labels = preprocess_folder(f\"/content/drive/MyDrive/SaarbrueckenDataset/pathological\",True,16000)\n",
        "for itm in list_of_wavs: total_list_of_wavs.append(itm)\n",
        "for itm in list_of_labels: total_list_of_labels.append(itm)"
      ],
      "metadata": {
        "id": "GDg-s7lPSvfu"
      },
      "execution_count": null,
      "outputs": []
    },
    {
      "cell_type": "code",
      "source": [
        "saarbruecken_dataset = tf.data.Dataset.from_tensor_slices((total_list_of_wavs, total_list_of_labels))"
      ],
      "metadata": {
        "id": "QRTxhiApSw64"
      },
      "execution_count": null,
      "outputs": []
    },
    {
      "cell_type": "markdown",
      "source": [
        "Loading from Drive"
      ],
      "metadata": {
        "id": "L-foM0OoSzIB"
      }
    },
    {
      "cell_type": "code",
      "source": [
        "saarbruecken_dataset = tf.data.Dataset.load(\"/content/drive/MyDrive/Saarbruecken_TF_Dataset\")"
      ],
      "metadata": {
        "id": "_Kve1xkGS087"
      },
      "execution_count": 5,
      "outputs": []
    },
    {
      "cell_type": "markdown",
      "source": [
        "## AVFAD Dataset"
      ],
      "metadata": {
        "id": "1Kxdo5OWS3TN"
      }
    },
    {
      "cell_type": "code",
      "source": [
        "def load_wavs_from_folder(folder_path,positive):\n",
        "  files_list = os.listdir(folder_path)\n",
        "  list_of_wavs = []\n",
        "  for f in files_list:\n",
        "    if f.endswith(\".wav\"):\n",
        "      file_path = os.path.join(folder_path,f)\n",
        "      list_of_wavs.append(read(file_path)[1])\n",
        "  if positive:\n",
        "    list_of_labels = np.ones(len(list_of_wavs))\n",
        "  else:\n",
        "    list_of_labels = np.zeros(len(list_of_wavs))\n",
        "  lengths_list = [len(x) for x in list_of_wavs]\n",
        "  print(len(list_of_wavs))\n",
        "  max_length = max(lengths_list)\n",
        "  total_length = sum(lengths_list)\n",
        "  min_length = min(lengths_list)\n",
        "  print(total_length//len(list_of_wavs),max_length,min_length,sep='\\n')\n",
        "  return list_of_wavs,list_of_labels"
      ],
      "metadata": {
        "id": "KoCbh_0SS5AE"
      },
      "execution_count": null,
      "outputs": []
    },
    {
      "cell_type": "code",
      "source": [
        "!unzip -d data /content/drive/MyDrive/OneDrive_1_7-3-2024.zip"
      ],
      "metadata": {
        "id": "l6Mo52CITGV8"
      },
      "execution_count": null,
      "outputs": []
    },
    {
      "cell_type": "code",
      "source": [
        "data = pd.read_excel(\"/content/drive/MyDrive/AVFAD_01_00_00.xlsx\")"
      ],
      "metadata": {
        "id": "GVikOXTOTJHj"
      },
      "execution_count": null,
      "outputs": []
    },
    {
      "cell_type": "code",
      "source": [
        "dictionary = dict(zip(data[\"File ID\"], data[\"CMVD-I Dimension 1 (word system)\"]))"
      ],
      "metadata": {
        "id": "lrFI9lYATUHt"
      },
      "execution_count": null,
      "outputs": []
    },
    {
      "cell_type": "code",
      "source": [
        "def preprocess_folder(folder_path,positive,sampling_rate):\n",
        "  files_list = os.listdir(folder_path)\n",
        "  list_of_wavs, list_of_labels = [], []\n",
        "  for f in files_list:\n",
        "    if f.endswith(\".wav\") and f[0] != \".\":\n",
        "      file_path = os.path.join(folder_path,f)\n",
        "      wav = librosa.load(file_path,sr=sampling_rate)\n",
        "      if sampling_rate*8 >= len(wav[0]) >= sampling_rate*2:\n",
        "        padded_wav = np.pad(wav[0],(0,sampling_rate*8-len(wav[0])),mode='constant')\n",
        "        list_of_wavs.append(padded_wav)\n",
        "        if positive:\n",
        "          list_of_labels.append(1)\n",
        "        else:\n",
        "          list_of_labels.append(0)\n",
        "  return list_of_wavs, list_of_labels"
      ],
      "metadata": {
        "id": "wyZQDiQUTWMh"
      },
      "execution_count": null,
      "outputs": []
    },
    {
      "cell_type": "code",
      "source": [
        "total_list_of_wavs, total_list_of_labels = [], []\n",
        "for folder in os.listdir(\"/content/data/\"):\n",
        "  print(folder)\n",
        "  for folder2 in os.listdir(os.path.join(\"/content/data\",folder)):\n",
        "    if dictionary[folder2] == \"Normal\":\n",
        "      list_of_wavs, list_of_labels = preprocess_folder(f\"/content/data/{folder}/{folder2}\",False,16000)\n",
        "    else:\n",
        "      list_of_wavs, list_of_labels = preprocess_folder(f\"/content/data/{folder}/{folder2}\",True,16000)\n",
        "    for itm in list_of_wavs: total_list_of_wavs.append(itm)\n",
        "    for itm in list_of_labels: total_list_of_labels.append(itm)"
      ],
      "metadata": {
        "id": "IwvcAuB5TgTF"
      },
      "execution_count": null,
      "outputs": []
    },
    {
      "cell_type": "code",
      "source": [
        "avfad_dataset = tf.data.Dataset.from_tensor_slices((total_list_of_wavs, total_list_of_labels))"
      ],
      "metadata": {
        "id": "zK4D6Wq2TiX5"
      },
      "execution_count": null,
      "outputs": []
    },
    {
      "cell_type": "markdown",
      "source": [
        "Loading from Drive"
      ],
      "metadata": {
        "id": "UbG7X6cwTj1I"
      }
    },
    {
      "cell_type": "code",
      "source": [
        "avfad_dataset = tf.data.Dataset.load(\"/content/drive/MyDrive/AVFAD_TF_Dataset\")"
      ],
      "metadata": {
        "id": "2GrixSW_Tk-k"
      },
      "execution_count": 6,
      "outputs": []
    },
    {
      "cell_type": "markdown",
      "source": [
        "## Creating Concatenated Dataset"
      ],
      "metadata": {
        "id": "_idhUpYkRuU8"
      }
    },
    {
      "cell_type": "code",
      "source": [
        "dataset = uaspeech_dataset_sample.concatenate(saarbruecken_dataset).concatenate(torgo_dataset).concatenate(avfad_dataset)"
      ],
      "metadata": {
        "id": "Xr--f2wvcfUA"
      },
      "execution_count": 7,
      "outputs": []
    },
    {
      "cell_type": "code",
      "source": [
        "len(dataset)"
      ],
      "metadata": {
        "colab": {
          "base_uri": "https://localhost:8080/"
        },
        "id": "EvMqwxhG2RD1",
        "outputId": "d9f6684f-7c2c-4429-b5ee-18b16967baeb"
      },
      "execution_count": 8,
      "outputs": [
        {
          "output_type": "execute_result",
          "data": {
            "text/plain": [
              "22883"
            ]
          },
          "metadata": {},
          "execution_count": 8
        }
      ]
    },
    {
      "cell_type": "markdown",
      "source": [
        "##Training Model"
      ],
      "metadata": {
        "id": "-QTgLqf1TsTU"
      }
    },
    {
      "cell_type": "code",
      "source": [
        "def generate_train_test_val_splits(dataset,train_size,test_size,val_size):\n",
        "  train_size = int(len(dataset)*train_size)\n",
        "  test_size = int(len(dataset)*test_size)\n",
        "  val_size = int(len(dataset)*val_size)\n",
        "  dataset = dataset.shuffle(len(dataset))\n",
        "  train_dataset = dataset.take(train_size)\n",
        "  test_dataset = dataset.skip(train_size).take(test_size)\n",
        "  val_dataset = dataset.skip(train_size+test_size).take(val_size)\n",
        "  return train_dataset,test_dataset,val_dataset"
      ],
      "metadata": {
        "id": "_eA0NpAjcj11"
      },
      "execution_count": 9,
      "outputs": []
    },
    {
      "cell_type": "code",
      "source": [
        "train_ds, test_ds, val_ds = generate_train_test_val_splits(dataset, 0.7, 0.1, 0.2)\n",
        "\n",
        "batch_size = 32\n",
        "train_ds = train_ds.batch(batch_size)\n",
        "test_ds = test_ds.batch(batch_size)\n",
        "val_ds = val_ds.batch(batch_size)"
      ],
      "metadata": {
        "id": "BrcfiMj0cmI_"
      },
      "execution_count": 10,
      "outputs": []
    },
    {
      "cell_type": "code",
      "source": [
        "from tensorflow.keras import layers, models\n",
        "from tensorflow.keras.optimizers import Adam\n",
        "from tensorflow.keras.metrics import AUC, Recall, Precision\n",
        "\n",
        "model = models.Sequential([\n",
        "    layers.Input(shape=(128000, 1)),\n",
        "\n",
        "    layers.Conv1D(32, 3, activation='relu', padding='same'),\n",
        "    layers.MaxPooling1D(2),\n",
        "    layers.Conv1D(64, 3, activation='relu', padding='same'),\n",
        "    layers.MaxPooling1D(2),\n",
        "    layers.Conv1D(128, 3, activation='relu', padding='same'),\n",
        "    layers.MaxPooling1D(2),\n",
        "\n",
        "    layers.Flatten(),\n",
        "\n",
        "    layers.Dense(128, activation='relu'),\n",
        "    layers.Dense(64, activation='relu'),\n",
        "    layers.Dense(32, activation='relu'),\n",
        "\n",
        "    layers.Dense(1, activation='sigmoid')\n",
        "])\n",
        "\n",
        "optimizer = Adam(learning_rate=0.0001)\n",
        "model.compile(optimizer=optimizer,\n",
        "              loss='binary_crossentropy',\n",
        "              metrics=['accuracy', AUC(name='auc'), Recall(name='recall'), Precision(name='precision')])\n",
        "\n",
        "model.summary()"
      ],
      "metadata": {
        "id": "E1zr5LY_cpGC",
        "colab": {
          "base_uri": "https://localhost:8080/"
        },
        "outputId": "28246bb9-a9bf-46e6-9c69-a696a6bdd23b"
      },
      "execution_count": 11,
      "outputs": [
        {
          "output_type": "stream",
          "name": "stdout",
          "text": [
            "Model: \"sequential\"\n",
            "_________________________________________________________________\n",
            " Layer (type)                Output Shape              Param #   \n",
            "=================================================================\n",
            " conv1d (Conv1D)             (None, 128000, 32)        128       \n",
            "                                                                 \n",
            " max_pooling1d (MaxPooling1  (None, 64000, 32)         0         \n",
            " D)                                                              \n",
            "                                                                 \n",
            " conv1d_1 (Conv1D)           (None, 64000, 64)         6208      \n",
            "                                                                 \n",
            " max_pooling1d_1 (MaxPoolin  (None, 32000, 64)         0         \n",
            " g1D)                                                            \n",
            "                                                                 \n",
            " conv1d_2 (Conv1D)           (None, 32000, 128)        24704     \n",
            "                                                                 \n",
            " max_pooling1d_2 (MaxPoolin  (None, 16000, 128)        0         \n",
            " g1D)                                                            \n",
            "                                                                 \n",
            " flatten (Flatten)           (None, 2048000)           0         \n",
            "                                                                 \n",
            " dense (Dense)               (None, 128)               262144128 \n",
            "                                                                 \n",
            " dense_1 (Dense)             (None, 64)                8256      \n",
            "                                                                 \n",
            " dense_2 (Dense)             (None, 32)                2080      \n",
            "                                                                 \n",
            " dense_3 (Dense)             (None, 1)                 33        \n",
            "                                                                 \n",
            "=================================================================\n",
            "Total params: 262185537 (1000.16 MB)\n",
            "Trainable params: 262185537 (1000.16 MB)\n",
            "Non-trainable params: 0 (0.00 Byte)\n",
            "_________________________________________________________________\n"
          ]
        }
      ]
    },
    {
      "cell_type": "code",
      "source": [
        "start_time = time.process_time()\n",
        "history = model.fit(train_ds, epochs=20, validation_data=val_ds)\n",
        "test_loss, test_accuracy, test_auc, test_precision, test_recall = model.evaluate(test_ds)\n",
        "\n",
        "print(\"Test Loss:\", test_loss)\n",
        "print(\"Test Accuracy:\", test_accuracy)\n",
        "print(\"Test AUC:\", test_auc)\n",
        "print(\"Test Precision:\", test_precision)\n",
        "print(\"Test Recall:\", test_recall)\n",
        "\n",
        "total_time = time.process_time() - start_time\n",
        "print(\"Time taken:\", total_time)"
      ],
      "metadata": {
        "colab": {
          "base_uri": "https://localhost:8080/"
        },
        "id": "Mc0J274xP3Mi",
        "outputId": "93234eb5-f03e-4508-94c8-c3203cebc461"
      },
      "execution_count": 12,
      "outputs": [
        {
          "output_type": "stream",
          "name": "stdout",
          "text": [
            "Epoch 1/20\n",
            "501/501 [==============================] - 152s 102ms/step - loss: 0.2939 - accuracy: 0.8772 - auc: 0.9224 - recall: 0.9382 - precision: 0.9043 - val_loss: 0.2165 - val_accuracy: 0.9135 - val_auc: 0.9557 - val_recall: 0.9409 - val_precision: 0.9452\n",
            "Epoch 2/20\n",
            "501/501 [==============================] - 62s 97ms/step - loss: 0.2186 - accuracy: 0.9116 - auc: 0.9540 - recall: 0.9318 - precision: 0.9510 - val_loss: 0.1888 - val_accuracy: 0.9211 - val_auc: 0.9655 - val_recall: 0.9276 - val_precision: 0.9682\n",
            "Epoch 3/20\n",
            "501/501 [==============================] - 62s 97ms/step - loss: 0.1857 - accuracy: 0.9264 - auc: 0.9657 - recall: 0.9414 - precision: 0.9610 - val_loss: 0.1660 - val_accuracy: 0.9395 - val_auc: 0.9763 - val_recall: 0.9548 - val_precision: 0.9650\n",
            "Epoch 4/20\n",
            "501/501 [==============================] - 61s 95ms/step - loss: 0.1763 - accuracy: 0.9298 - auc: 0.9690 - recall: 0.9464 - precision: 0.9605 - val_loss: 0.1557 - val_accuracy: 0.9366 - val_auc: 0.9777 - val_recall: 0.9534 - val_precision: 0.9628\n",
            "Epoch 5/20\n",
            "501/501 [==============================] - 61s 96ms/step - loss: 0.1581 - accuracy: 0.9392 - auc: 0.9752 - recall: 0.9521 - precision: 0.9674 - val_loss: 0.1277 - val_accuracy: 0.9602 - val_auc: 0.9882 - val_recall: 0.9688 - val_precision: 0.9789\n",
            "Epoch 6/20\n",
            "501/501 [==============================] - 62s 96ms/step - loss: 0.1264 - accuracy: 0.9533 - auc: 0.9832 - recall: 0.9641 - precision: 0.9743 - val_loss: 0.1120 - val_accuracy: 0.9585 - val_auc: 0.9919 - val_recall: 0.9559 - val_precision: 0.9897\n",
            "Epoch 7/20\n",
            "501/501 [==============================] - 61s 95ms/step - loss: 0.1110 - accuracy: 0.9614 - auc: 0.9872 - recall: 0.9707 - precision: 0.9783 - val_loss: 0.0908 - val_accuracy: 0.9716 - val_auc: 0.9909 - val_recall: 0.9818 - val_precision: 0.9813\n",
            "Epoch 8/20\n",
            "501/501 [==============================] - 62s 96ms/step - loss: 0.0899 - accuracy: 0.9713 - auc: 0.9915 - recall: 0.9799 - precision: 0.9823 - val_loss: 0.0847 - val_accuracy: 0.9714 - val_auc: 0.9957 - val_recall: 0.9925 - val_precision: 0.9704\n",
            "Epoch 9/20\n",
            "501/501 [==============================] - 61s 95ms/step - loss: 0.0630 - accuracy: 0.9802 - auc: 0.9955 - recall: 0.9872 - precision: 0.9868 - val_loss: 0.0628 - val_accuracy: 0.9786 - val_auc: 0.9981 - val_recall: 0.9785 - val_precision: 0.9933\n",
            "Epoch 10/20\n",
            "501/501 [==============================] - 61s 95ms/step - loss: 0.0559 - accuracy: 0.9829 - auc: 0.9962 - recall: 0.9893 - precision: 0.9882 - val_loss: 0.0682 - val_accuracy: 0.9803 - val_auc: 0.9944 - val_recall: 0.9954 - val_precision: 0.9790\n",
            "Epoch 11/20\n",
            "501/501 [==============================] - 61s 96ms/step - loss: 0.0387 - accuracy: 0.9874 - auc: 0.9985 - recall: 0.9927 - precision: 0.9907 - val_loss: 0.0304 - val_accuracy: 0.9913 - val_auc: 0.9976 - val_recall: 0.9942 - val_precision: 0.9942\n",
            "Epoch 12/20\n",
            "501/501 [==============================] - 61s 96ms/step - loss: 0.0328 - accuracy: 0.9894 - auc: 0.9987 - recall: 0.9943 - precision: 0.9917 - val_loss: 0.0181 - val_accuracy: 0.9934 - val_auc: 0.9998 - val_recall: 0.9971 - val_precision: 0.9943\n",
            "Epoch 13/20\n",
            "501/501 [==============================] - 61s 96ms/step - loss: 0.0327 - accuracy: 0.9909 - auc: 0.9982 - recall: 0.9942 - precision: 0.9938 - val_loss: 0.0483 - val_accuracy: 0.9919 - val_auc: 0.9984 - val_recall: 0.9919 - val_precision: 0.9974\n",
            "Epoch 14/20\n",
            "501/501 [==============================] - 61s 95ms/step - loss: 0.0173 - accuracy: 0.9948 - auc: 0.9996 - recall: 0.9970 - precision: 0.9961 - val_loss: 0.0146 - val_accuracy: 0.9961 - val_auc: 0.9994 - val_recall: 0.9985 - val_precision: 0.9962\n",
            "Epoch 15/20\n",
            "501/501 [==============================] - 61s 96ms/step - loss: 0.0234 - accuracy: 0.9944 - auc: 0.9986 - recall: 0.9970 - precision: 0.9956 - val_loss: 0.0209 - val_accuracy: 0.9934 - val_auc: 0.9997 - val_recall: 0.9948 - val_precision: 0.9966\n",
            "Epoch 16/20\n",
            "501/501 [==============================] - 61s 96ms/step - loss: 0.0108 - accuracy: 0.9965 - auc: 0.9998 - recall: 0.9977 - precision: 0.9977 - val_loss: 0.0094 - val_accuracy: 0.9972 - val_auc: 0.9995 - val_recall: 0.9997 - val_precision: 0.9966\n",
            "Epoch 17/20\n",
            "501/501 [==============================] - 61s 96ms/step - loss: 0.0090 - accuracy: 0.9973 - auc: 0.9999 - recall: 0.9984 - precision: 0.9980 - val_loss: 0.0626 - val_accuracy: 0.9827 - val_auc: 0.9948 - val_recall: 0.9994 - val_precision: 0.9783\n",
            "Epoch 18/20\n",
            "501/501 [==============================] - 61s 96ms/step - loss: 0.0157 - accuracy: 0.9955 - auc: 0.9993 - recall: 0.9973 - precision: 0.9968 - val_loss: 0.0051 - val_accuracy: 0.9993 - val_auc: 0.9998 - val_recall: 0.9991 - val_precision: 1.0000\n",
            "Epoch 19/20\n",
            "501/501 [==============================] - 62s 96ms/step - loss: 0.0127 - accuracy: 0.9973 - auc: 0.9993 - recall: 0.9985 - precision: 0.9979 - val_loss: 0.0056 - val_accuracy: 0.9985 - val_auc: 1.0000 - val_recall: 1.0000 - val_precision: 0.9980\n",
            "Epoch 20/20\n",
            "501/501 [==============================] - 62s 96ms/step - loss: 0.0047 - accuracy: 0.9989 - auc: 0.9998 - recall: 0.9994 - precision: 0.9992 - val_loss: 0.0036 - val_accuracy: 0.9991 - val_auc: 1.0000 - val_recall: 0.9988 - val_precision: 1.0000\n",
            "72/72 [==============================] - 15s 23ms/step - loss: 0.0049 - accuracy: 0.9974 - auc: 1.0000 - recall: 0.9972 - precision: 0.9994\n",
            "Test Loss: 0.004929577466100454\n",
            "Test Accuracy: 0.9973776340484619\n",
            "Test AUC: 0.999994695186615\n",
            "Test Precision: 0.9971510171890259\n",
            "Test Recall: 0.9994288682937622\n",
            "Time taken: 1048.962391391\n"
          ]
        }
      ]
    },
    {
      "cell_type": "markdown",
      "source": [
        "## Displaying Results"
      ],
      "metadata": {
        "id": "PT5a1ECBTxO8"
      }
    },
    {
      "cell_type": "code",
      "source": [
        "!mkdir Figures"
      ],
      "metadata": {
        "id": "-_3Jq3_C3GKT"
      },
      "execution_count": 13,
      "outputs": []
    },
    {
      "cell_type": "code",
      "source": [
        "def create_plot(history):\n",
        "    acc = history.history['accuracy']\n",
        "    val_acc = history.history['val_accuracy']\n",
        "    loss = history.history['loss']\n",
        "    val_loss = history.history['val_loss']\n",
        "    auc = history.history['auc']\n",
        "    val_auc = history.history['val_auc']\n",
        "    precision = history.history['precision']\n",
        "    val_precision = history.history['val_precision']\n",
        "    recall = history.history['recall']\n",
        "    val_recall = history.history['val_recall']\n",
        "    epochs = range(len(acc))\n",
        "\n",
        "    xticks = range(0, len(acc), 2)\n",
        "\n",
        "    plt.figure(figsize=(6, 6))\n",
        "    plt.plot(epochs, acc, 'bo-', label='Training accuracy')\n",
        "    plt.plot(epochs, val_acc, 'ro-', label='Validation accuracy')\n",
        "    plt.title('Training and Validation Accuracy')\n",
        "    plt.xlabel('Epochs')\n",
        "    plt.ylabel('Accuracy')\n",
        "    plt.xticks(xticks)\n",
        "    plt.legend()\n",
        "    plt.show()\n",
        "    plt.savefig('/content/Figures/accuracy.png')\n",
        "\n",
        "    plt.figure(figsize=(6, 6))\n",
        "    plt.plot(epochs, loss, 'bo-', label='Training loss')\n",
        "    plt.plot(epochs, val_loss, 'ro-', label='Validation loss')\n",
        "    plt.title('Training and Validation Loss')\n",
        "    plt.xlabel('Epochs')\n",
        "    plt.ylabel('Loss')\n",
        "    plt.xticks(xticks)\n",
        "    plt.legend()\n",
        "    plt.show()\n",
        "    plt.savefig('/content/Figures/loss.png')\n",
        "\n",
        "    plt.figure(figsize=(6, 6))\n",
        "    plt.plot(epochs, auc, 'bo-', label='Training AUC')\n",
        "    plt.plot(epochs, val_auc, 'ro-', label='Validation AUC')\n",
        "    plt.title('Training and Validation AUC')\n",
        "    plt.xlabel('Epochs')\n",
        "    plt.ylabel('AUC')\n",
        "    plt.xticks(xticks)\n",
        "    plt.legend()\n",
        "    plt.show()\n",
        "    plt.savefig('/content/Figures/auc.png')\n",
        "\n",
        "    plt.figure(figsize=(6, 6))\n",
        "    plt.plot(epochs, precision, 'bo-', label='Training Precision')\n",
        "    plt.plot(epochs, val_precision, 'ro-', label='Validation Precision')\n",
        "    plt.title('Training and Validation Precision')\n",
        "    plt.xlabel('Epochs')\n",
        "    plt.ylabel('Precision')\n",
        "    plt.xticks(xticks)\n",
        "    plt.legend()\n",
        "    plt.show()\n",
        "    plt.savefig('/content/Figures/precision.png')\n",
        "\n",
        "    plt.figure(figsize=(6, 6))\n",
        "    plt.plot(epochs, recall, 'bo-', label='Training Recall')\n",
        "    plt.plot(epochs, val_recall, 'ro-', label='Validation Recall')\n",
        "    plt.title('Training and Validation Recall')\n",
        "    plt.xlabel('Epochs')\n",
        "    plt.ylabel('Recall')\n",
        "    plt.xticks(xticks)\n",
        "    plt.legend()\n",
        "    plt.show()\n",
        "    plt.savefig('/content/Figures/recall.png')\n",
        "\n",
        "create_plot(history)"
      ],
      "metadata": {
        "id": "vjUhP1dr3Nko",
        "colab": {
          "base_uri": "https://localhost:8080/",
          "height": 1000
        },
        "outputId": "6e6d8db7-50ce-46cc-b480-7f4b8ddac4d4"
      },
      "execution_count": 14,
      "outputs": [
        {
          "output_type": "display_data",
          "data": {
            "text/plain": [
              "<Figure size 600x600 with 1 Axes>"
            ],
            "image/png": "[encoded data removed]"
          },
          "metadata": {}
        },
        {
          "output_type": "display_data",
          "data": {
            "text/plain": [
              "<Figure size 640x480 with 0 Axes>"
            ]
          },
          "metadata": {}
        },
        {
          "output_type": "display_data",
          "data": {
            "text/plain": [
              "<Figure size 600x600 with 1 Axes>"
            ],
            "image/png": "[encoded data removed]"
          },
          "metadata": {}
        },
        {
          "output_type": "display_data",
          "data": {
            "text/plain": [
              "<Figure size 640x480 with 0 Axes>"
            ]
          },
          "metadata": {}
        },
        {
          "output_type": "display_data",
          "data": {
            "text/plain": [
              "<Figure size 600x600 with 1 Axes>"
            ],
            "image/png": "[encoded data removed]"
          },
          "metadata": {}
        },
        {
          "output_type": "display_data",
          "data": {
            "text/plain": [
              "<Figure size 640x480 with 0 Axes>"
            ]
          },
          "metadata": {}
        },
        {
          "output_type": "display_data",
          "data": {
            "text/plain": [
              "<Figure size 600x600 with 1 Axes>"
            ],
            "image/png": "[encoded data removed]"
          },
          "metadata": {}
        },
        {
          "output_type": "display_data",
          "data": {
            "text/plain": [
              "<Figure size 640x480 with 0 Axes>"
            ]
          },
          "metadata": {}
        },
        {
          "output_type": "display_data",
          "data": {
            "text/plain": [
              "<Figure size 600x600 with 1 Axes>"
            ],
            "image/png": "[encoded data removed]"
          },
          "metadata": {}
        },
        {
          "output_type": "display_data",
          "data": {
            "text/plain": [
              "<Figure size 640x480 with 0 Axes>"
            ]
          },
          "metadata": {}
        }
      ]
    },
    {
      "cell_type": "markdown",
      "source": [
        "##Saving and Evaluating Model"
      ],
      "metadata": {
        "id": "q4WfxX3G4jx_"
      }
    },
    {
      "cell_type": "code",
      "source": [
        "model.save('/content/drive/MyDrive/voice_detection_model.keras')"
      ],
      "metadata": {
        "id": "uRCmeU_Xi2PQ"
      },
      "execution_count": 15,
      "outputs": []
    },
    {
      "cell_type": "markdown",
      "source": [
        "Evaluation on full UA Speech Dataset"
      ],
      "metadata": {
        "id": "wD0axLAc3lCm"
      }
    },
    {
      "cell_type": "code",
      "source": [
        "model.evaluate(uaspeech_dataset.batch(1))"
      ],
      "metadata": {
        "colab": {
          "base_uri": "https://localhost:8080/"
        },
        "id": "Cy_0MYEkklhE",
        "outputId": "735ec299-d4e0-46b8-b42f-62cb245b4555"
      },
      "execution_count": 36,
      "outputs": [
        {
          "output_type": "stream",
          "name": "stdout",
          "text": [
            "75364/75364 [==============================] - 271s 4ms/step - loss: 0.0081 - accuracy: 0.9972 - auc: 0.9998 - recall: 0.9962 - precision: 0.9983\n"
          ]
        },
        {
          "output_type": "execute_result",
          "data": {
            "text/plain": [
              "[0.008126880042254925,\n",
              " 0.9972267746925354,\n",
              " 0.9998133778572083,\n",
              " 0.9962264895439148,\n",
              " 0.9983309507369995]"
            ]
          },
          "metadata": {},
          "execution_count": 36
        }
      ]
    },
    {
      "cell_type": "markdown",
      "source": [
        "Evaluation on full TORGO Dataset"
      ],
      "metadata": {
        "id": "re58OeT23lvX"
      }
    },
    {
      "cell_type": "code",
      "source": [
        "model.evaluate(torgo_dataset.batch(1))"
      ],
      "metadata": {
        "colab": {
          "base_uri": "https://localhost:8080/"
        },
        "id": "WtXAon_o3q8N",
        "outputId": "9bc242ea-7d0e-436a-e755-9820e696fb89"
      },
      "execution_count": 37,
      "outputs": [
        {
          "output_type": "stream",
          "name": "stdout",
          "text": [
            "6602/6602 [==============================] - 24s 4ms/step - loss: 0.0136 - accuracy: 0.9959 - auc: 0.9997 - recall: 0.9895 - precision: 0.9982\n"
          ]
        },
        {
          "output_type": "execute_result",
          "data": {
            "text/plain": [
              "[0.013581029139459133,\n",
              " 0.9959103465080261,\n",
              " 0.9997073411941528,\n",
              " 0.9894640445709229,\n",
              " 0.9981516003608704]"
            ]
          },
          "metadata": {},
          "execution_count": 37
        }
      ]
    },
    {
      "cell_type": "markdown",
      "source": [
        "Evaluation on full Saarbruecken Dataset"
      ],
      "metadata": {
        "id": "TFWDPWQO33aY"
      }
    },
    {
      "cell_type": "code",
      "source": [
        "model.evaluate(saarbruecken_dataset.batch(1))"
      ],
      "metadata": {
        "colab": {
          "base_uri": "https://localhost:8080/"
        },
        "id": "IesLkXfY35KX",
        "outputId": "20739c1e-499e-4f65-856c-cfee9a04fbce"
      },
      "execution_count": 38,
      "outputs": [
        {
          "output_type": "stream",
          "name": "stdout",
          "text": [
            "728/728 [==============================] - 3s 4ms/step - loss: 0.0014 - accuracy: 0.9986 - auc: 1.0000 - recall: 1.0000 - precision: 0.9982\n"
          ]
        },
        {
          "output_type": "execute_result",
          "data": {
            "text/plain": [
              "[0.001435283338651061, 0.9986263513565063, 1.0, 1.0, 0.9982143044471741]"
            ]
          },
          "metadata": {},
          "execution_count": 38
        }
      ]
    },
    {
      "cell_type": "markdown",
      "source": [
        "Evaluation on full AVFAD Dataset"
      ],
      "metadata": {
        "id": "iE8x9TbC4GYe"
      }
    },
    {
      "cell_type": "code",
      "source": [
        "model.evaluate(avfad_dataset.batch(1))"
      ],
      "metadata": {
        "colab": {
          "base_uri": "https://localhost:8080/"
        },
        "id": "R-vVh04V4Ksv",
        "outputId": "c77a3092-09d6-4860-b958-f30ee1740d1b"
      },
      "execution_count": 39,
      "outputs": [
        {
          "output_type": "stream",
          "name": "stdout",
          "text": [
            "1553/1553 [==============================] - 6s 4ms/step - loss: 0.0019 - accuracy: 1.0000 - auc: 1.0000 - recall: 1.0000 - precision: 1.0000\n"
          ]
        },
        {
          "output_type": "execute_result",
          "data": {
            "text/plain": [
              "[0.0018985787173733115, 1.0, 1.0, 1.0, 1.0]"
            ]
          },
          "metadata": {},
          "execution_count": 39
        }
      ]
    }
  ]
}